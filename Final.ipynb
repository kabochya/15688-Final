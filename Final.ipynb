{
 "cells": [
  {
   "cell_type": "code",
   "execution_count": 1,
   "metadata": {},
   "outputs": [],
   "source": [
    "import numpy as np\n",
    "import pandas as pd\n",
    "\n",
    "data = pd.read_csv(\"data.csv\", dtype = {\"CRS_DEP_TIME\":str, \"DEP_TIME\":str, \"CRS_ARR_TIME\":str, \"ARR_TIME\":str, \"CANCELLED\":bool, \"DIVERTED\":bool}, parse_dates=[\"FL_DATE\"])"
   ]
  },
  {
   "cell_type": "code",
   "execution_count": 5,
   "metadata": {},
   "outputs": [
    {
     "name": "stdout",
     "output_type": "stream",
     "text": [
      "   YEAR  QUARTER  MONTH  DAY_OF_MONTH  DAY_OF_WEEK    FL_DATE CARRIER ORIGIN  \\\n",
      "0  2015        1      1            23            5 2015-01-23      US    BUF   \n",
      "1  2015        1      1            23            5 2015-01-23      US    CLT   \n",
      "2  2015        1      1            23            5 2015-01-23      US    CLT   \n",
      "3  2015        1      1            23            5 2015-01-23      US    LGA   \n",
      "4  2015        1      1            23            5 2015-01-23      US    CLT   \n",
      "\n",
      "  DEST CRS_DEP_TIME         ...          ARR_DELAY  ARR_DELAY_GROUP  \\\n",
      "0  CLT         0615         ...               -3.0             -1.0   \n",
      "1  ALB         2220         ...               -7.0             -1.0   \n",
      "2  BUF         0925         ...               -9.0             -1.0   \n",
      "3  CLT         0630         ...              -19.0             -2.0   \n",
      "4  BUF         2215         ...                7.0              0.0   \n",
      "\n",
      "   CANCELLED DIVERTED DISTANCE  CARRIER_DELAY  WEATHER_DELAY  NAS_DELAY  \\\n",
      "0      False    False    546.0            NaN            NaN        NaN   \n",
      "1      False    False    646.0            NaN            NaN        NaN   \n",
      "2      False    False    546.0            NaN            NaN        NaN   \n",
      "3      False    False    544.0            NaN            NaN        NaN   \n",
      "4      False    False    546.0            NaN            NaN        NaN   \n",
      "\n",
      "   SECURITY_DELAY  LATE_AIRCRAFT_DELAY  \n",
      "0             NaN                  NaN  \n",
      "1             NaN                  NaN  \n",
      "2             NaN                  NaN  \n",
      "3             NaN                  NaN  \n",
      "4             NaN                  NaN  \n",
      "\n",
      "[5 rows x 25 columns]\n"
     ]
    }
   ],
   "source": [
    "print(data.head())"
   ]
  },
  {
   "cell_type": "code",
   "execution_count": 6,
   "metadata": {},
   "outputs": [],
   "source": [
    "import requests\n",
    "from bs4 import BeautifulSoup"
   ]
  },
  {
   "cell_type": "code",
   "execution_count": null,
   "metadata": {},
   "outputs": [],
   "source": []
  }
 ],
 "metadata": {
  "kernelspec": {
   "display_name": "Python 3",
   "language": "python",
   "name": "python3"
  },
  "language_info": {
   "codemirror_mode": {
    "name": "ipython",
    "version": 3
   },
   "file_extension": ".py",
   "mimetype": "text/x-python",
   "name": "python",
   "nbconvert_exporter": "python",
   "pygments_lexer": "ipython3",
   "version": "3.6.5"
  }
 },
 "nbformat": 4,
 "nbformat_minor": 2
}
